{
 "cells": [
  {
   "cell_type": "code",
   "execution_count": 7,
   "id": "073be11d-dcdd-4860-a132-c6eafb38bcc9",
   "metadata": {},
   "outputs": [],
   "source": [
    "#pip install requests beautifulsoup4"
   ]
  },
  {
   "cell_type": "code",
   "execution_count": 11,
   "id": "06bf0b5b-d31f-41a0-96c5-90317c49d7fb",
   "metadata": {},
   "outputs": [
    {
     "name": "stdout",
     "output_type": "stream",
     "text": [
      "Title: Tesla, Inc. (TSLA)\n",
      "Stock Price: 175.75\n",
      "Market Cap: 560.502B \n",
      "Open Price: 178.42 \n"
     ]
    }
   ],
   "source": [
    "import requests\n",
    "from bs4 import BeautifulSoup\n",
    "from lxml import etree\n",
    "\n",
    "def get_stock_info(url):\n",
    "    headers = {\n",
    "        'User-Agent': 'Mozilla/5.0 (Windows NT 10.0; Win64; x64) AppleWebKit/537.36 (KHTML, like Gecko) Chrome/58.0.3029.110 Safari/537.3'}\n",
    "    \n",
    "    # Fetch the web page content\n",
    "    response = requests.get(url, headers=headers)\n",
    "    if response.status_code != 200:\n",
    "        print(f\"Failed to retrieve the page. Status code: {response.status_code}\")\n",
    "        return\n",
    "\n",
    "    # Parse the HTML content using BeautifulSoup and lxml\n",
    "    soup = BeautifulSoup(response.content, 'html.parser')\n",
    "    dom = etree.HTML(str(soup))\n",
    "\n",
    "    # Define the XPath for stock price and volume\n",
    "    price_xpath = '/html/body/div[1]/main/section/section/section/article/section[1]/div[2]/div[1]/section/div/section/div[1]/fin-streamer[1]/span'\n",
    "    volume_xpath = '/html/body/div[1]/main/section/section/section/article/section[1]/div[1]/div/section/h1'\n",
    "    marketcap = '/html/body/div[1]/main/section/section/section/article/div[2]/ul/li[9]/span[2]/fin-streamer'\n",
    "    openprice = '/html/body/div[1]/main/section/section/section/article/div[2]/ul/li[2]/span[2]/fin-streamer'\n",
    "\n",
    "    # Extract the stock price\n",
    "    stock_price = dom.xpath(price_xpath)[0].text if dom.xpath(price_xpath) else 'N/A'\n",
    "\n",
    "    # Extract the volume\n",
    "    volume = dom.xpath(volume_xpath)[0].text if dom.xpath(volume_xpath) else 'N/A'\n",
    "\n",
    "      # Extract the market cap\n",
    "    marketcap_ = dom.xpath(marketcap)[0].text if dom.xpath(marketcap) else 'N/A'\n",
    "\n",
    "        # Extract the market cap\n",
    "    openprice_ = dom.xpath(openprice)[0].text if dom.xpath(marketcap) else 'N/A'\n",
    "    \n",
    "    print(f\"Title: {volume}\")\n",
    "    print(f\"Stock Price: {stock_price}\")\n",
    "    print(f\"Market Cap: {marketcap_}\")\n",
    "    print(f\"Open Price: {openprice_}\")\n",
    "\n",
    "\n",
    "\n",
    "\n",
    "# URL of the stock page\n",
    "url = 'https://finance.yahoo.com/quote/TSLA/'\n",
    "\n",
    "get_stock_info(url)\n"
   ]
  },
  {
   "cell_type": "code",
   "execution_count": null,
   "id": "b8d31e7f-04da-4876-9eb3-eb2ac777ee02",
   "metadata": {},
   "outputs": [],
   "source": []
  }
 ],
 "metadata": {
  "kernelspec": {
   "display_name": "Python 3 (ipykernel)",
   "language": "python",
   "name": "python3"
  },
  "language_info": {
   "codemirror_mode": {
    "name": "ipython",
    "version": 3
   },
   "file_extension": ".py",
   "mimetype": "text/x-python",
   "name": "python",
   "nbconvert_exporter": "python",
   "pygments_lexer": "ipython3",
   "version": "3.11.7"
  }
 },
 "nbformat": 4,
 "nbformat_minor": 5
}
