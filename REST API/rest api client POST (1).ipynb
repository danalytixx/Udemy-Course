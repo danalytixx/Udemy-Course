{
 "cells": [
  {
   "cell_type": "code",
   "execution_count": 12,
   "id": "71dbb918",
   "metadata": {},
   "outputs": [
    {
     "name": "stdout",
     "output_type": "stream",
     "text": [
      "{'received response': 'Hello, World!'}\n"
     ]
    }
   ],
   "source": [
    "import requests\n",
    "\n",
    "def send_string_to_server(string_to_send):\n",
    "    # Define the URL. It should match the server's host and port.\n",
    "    url = \"http://127.0.0.1:9000/send_string\"\n",
    "    \n",
    "    # Send a POST request to the server with the provided string.\n",
    "    response = requests.post(url, data=string_to_send)\n",
    "    \n",
    "    # Check if the request was successful\n",
    "    if response.status_code == 200:\n",
    "        # If successful, print the received data\n",
    "        print(response.json())\n",
    "    else:\n",
    "        print(f\"Failed to send string. Server responded with: {response.status_code}\")\n",
    "\n",
    "if __name__ == \"__main__\":\n",
    "    # Call the function to send a string to the server\n",
    "    send_string_to_server(\"Hello, World!\")\n",
    "\n"
   ]
  },
  {
   "cell_type": "code",
   "execution_count": 11,
   "id": "2ca39db0",
   "metadata": {},
   "outputs": [
    {
     "name": "stdout",
     "output_type": "stream",
     "text": [
      "{'response': 'hello'}\n"
     ]
    }
   ],
   "source": [
    "import requests\n",
    "\n",
    "def get_response_from_server():\n",
    "    # Define the URL for the GET request. It should match the server's host and port.\n",
    "    url = \"http://127.0.0.1:9000/get_string\"\n",
    "    \n",
    "    # Send a GET request to the server.\n",
    "    response = requests.get(url)\n",
    "    \n",
    "    # Check if the request was successful\n",
    "    if response.status_code == 200:\n",
    "        # If successful, print the received data\n",
    "        print(response.json())\n",
    "    else:\n",
    "        print(f\"Failed to get response. Server responded with: {response.status_code}\")\n",
    "\n",
    "if __name__ == \"__main__\":\n",
    "    # Call the function to get a response from the server\n",
    "    get_response_from_server()\n"
   ]
  },
  {
   "cell_type": "code",
   "execution_count": null,
   "id": "86babc6a",
   "metadata": {},
   "outputs": [],
   "source": []
  }
 ],
 "metadata": {
  "kernelspec": {
   "display_name": "Python 3 (ipykernel)",
   "language": "python",
   "name": "python3"
  },
  "language_info": {
   "codemirror_mode": {
    "name": "ipython",
    "version": 3
   },
   "file_extension": ".py",
   "mimetype": "text/x-python",
   "name": "python",
   "nbconvert_exporter": "python",
   "pygments_lexer": "ipython3",
   "version": "3.12.4"
  }
 },
 "nbformat": 4,
 "nbformat_minor": 5
}
