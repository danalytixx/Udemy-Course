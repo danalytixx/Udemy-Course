{
 "cells": [
  {
   "cell_type": "code",
   "execution_count": null,
   "id": "6fcc022d",
   "metadata": {},
   "outputs": [
    {
     "name": "stdout",
     "output_type": "stream",
     "text": [
      " * Serving Flask app '__main__'\n",
      " * Debug mode: off\n"
     ]
    },
    {
     "name": "stderr",
     "output_type": "stream",
     "text": [
      "WARNING: This is a development server. Do not use it in a production deployment. Use a production WSGI server instead.\n",
      " * Running on all addresses (0.0.0.0)\n",
      " * Running on http://127.0.0.1:9000\n",
      " * Running on http://192.168.178.28:9000\n",
      "Press CTRL+C to quit\n",
      "127.0.0.1 - - [25/Jun/2024 20:17:54] \"GET /get_string HTTP/1.1\" 200 -\n",
      "127.0.0.1 - - [25/Jun/2024 20:18:11] \"POST /send_string HTTP/1.1\" 200 -\n",
      "127.0.0.1 - - [25/Jun/2024 20:18:15] \"GET /get_string HTTP/1.1\" 200 -\n",
      "127.0.0.1 - - [25/Jun/2024 20:47:52] \"GET / HTTP/1.1\" 404 -\n",
      "127.0.0.1 - - [25/Jun/2024 20:47:53] \"GET /favicon.ico HTTP/1.1\" 404 -\n",
      "127.0.0.1 - - [25/Jun/2024 20:48:01] \"GET /docs HTTP/1.1\" 404 -\n",
      "127.0.0.1 - - [25/Jun/2024 20:48:43] \"GET /get_string HTTP/1.1\" 200 -\n",
      "127.0.0.1 - - [25/Jun/2024 20:49:40] \"GET /get_string HTTP/1.1\" 200 -\n",
      "127.0.0.1 - - [25/Jun/2024 20:49:45] \"GET /get_string HTTP/1.1\" 200 -\n",
      "127.0.0.1 - - [25/Jun/2024 20:49:48] \"GET /get_string1 HTTP/1.1\" 404 -\n",
      "127.0.0.1 - - [25/Jun/2024 20:49:59] \"GET /get_string HTTP/1.1\" 200 -\n",
      "127.0.0.1 - - [25/Jun/2024 20:50:33] \"GET /send_string HTTP/1.1\" 405 -\n",
      "127.0.0.1 - - [25/Jun/2024 20:51:51] \"POST /send_string HTTP/1.1\" 200 -\n"
     ]
    }
   ],
   "source": [
    "from flask import Flask, request, jsonify\n",
    "\n",
    "app = Flask(__name__)\n",
    "\n",
    "@app.route('/send_string', methods=['POST'])\n",
    "def send_string():\n",
    "    data = request.data.decode('utf-8')\n",
    "    # Do something with the data if needed, for now, we just return it.\n",
    "    return jsonify({\"received response\": data})\n",
    "\n",
    "\n",
    "@app.route('/get_string', methods=['GET'])\n",
    "def get_string():\n",
    "    return jsonify({\"response\": \"hello\"})\n",
    "\n",
    "\n",
    "if __name__ == '__main__':\n",
    "    app.run(host='0.0.0.0', port=9000,debug=False)\n"
   ]
  },
  {
   "cell_type": "code",
   "execution_count": null,
   "id": "53cac2e4",
   "metadata": {},
   "outputs": [],
   "source": [
    "#pip install flask"
   ]
  },
  {
   "cell_type": "code",
   "execution_count": null,
   "id": "b615aba7-e9d2-456b-a480-a9c887b526ed",
   "metadata": {},
   "outputs": [],
   "source": []
  }
 ],
 "metadata": {
  "kernelspec": {
   "display_name": "Python 3 (ipykernel)",
   "language": "python",
   "name": "python3"
  },
  "language_info": {
   "codemirror_mode": {
    "name": "ipython",
    "version": 3
   },
   "file_extension": ".py",
   "mimetype": "text/x-python",
   "name": "python",
   "nbconvert_exporter": "python",
   "pygments_lexer": "ipython3",
   "version": "3.12.4"
  }
 },
 "nbformat": 4,
 "nbformat_minor": 5
}
