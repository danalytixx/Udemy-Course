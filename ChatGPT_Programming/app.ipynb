{
 "cells": [
  {
   "cell_type": "code",
   "execution_count": null,
   "id": "551b51bf-5c7e-4d3c-9881-b5db18664060",
   "metadata": {},
   "outputs": [
    {
     "name": "stdout",
     "output_type": "stream",
     "text": [
      " * Serving Flask app '__main__'\n",
      " * Debug mode: off\n"
     ]
    },
    {
     "name": "stderr",
     "output_type": "stream",
     "text": [
      "WARNING: This is a development server. Do not use it in a production deployment. Use a production WSGI server instead.\n",
      " * Running on http://127.0.0.1:5000\n",
      "Press CTRL+C to quit\n",
      "127.0.0.1 - - [27/May/2024 10:05:53] \"GET / HTTP/1.1\" 200 -\n",
      "127.0.0.1 - - [27/May/2024 10:06:01] \"POST /toggle_background HTTP/1.1\" 200 -\n",
      "127.0.0.1 - - [27/May/2024 10:06:02] \"POST /toggle_background HTTP/1.1\" 200 -\n",
      "127.0.0.1 - - [27/May/2024 10:06:04] \"POST /toggle_background HTTP/1.1\" 200 -\n",
      "127.0.0.1 - - [27/May/2024 10:06:07] \"POST /toggle_background HTTP/1.1\" 200 -\n",
      "127.0.0.1 - - [27/May/2024 10:07:38] \"GET / HTTP/1.1\" 200 -\n",
      "127.0.0.1 - - [27/May/2024 10:08:00] \"POST /toggle_background HTTP/1.1\" 200 -\n",
      "127.0.0.1 - - [27/May/2024 10:08:01] \"POST /toggle_background HTTP/1.1\" 200 -\n",
      "127.0.0.1 - - [27/May/2024 10:08:03] \"POST /toggle_background HTTP/1.1\" 200 -\n",
      "127.0.0.1 - - [27/May/2024 10:08:11] \"POST /toggle_background HTTP/1.1\" 200 -\n",
      "127.0.0.1 - - [27/May/2024 10:08:14] \"POST /toggle_background HTTP/1.1\" 200 -\n"
     ]
    }
   ],
   "source": [
    "from flask import Flask, render_template, jsonify\n",
    "\n",
    "app = Flask(__name__)\n",
    "\n",
    "@app.route('/')\n",
    "def index():\n",
    "    return render_template('/index.html')\n",
    "\n",
    "@app.route('/toggle_background', methods=['POST'])\n",
    "def toggle_background():\n",
    "    return jsonify(status=\"success\")\n",
    "\n",
    "if __name__ == '__main__':\n",
    "    app.run(debug=False)\n"
   ]
  },
  {
   "cell_type": "code",
   "execution_count": null,
   "id": "cf2272d3-274d-4b1e-94cb-7b438d8938d8",
   "metadata": {},
   "outputs": [],
   "source": []
  }
 ],
 "metadata": {
  "kernelspec": {
   "display_name": "Python 3 (ipykernel)",
   "language": "python",
   "name": "python3"
  },
  "language_info": {
   "codemirror_mode": {
    "name": "ipython",
    "version": 3
   },
   "file_extension": ".py",
   "mimetype": "text/x-python",
   "name": "python",
   "nbconvert_exporter": "python",
   "pygments_lexer": "ipython3",
   "version": "3.11.7"
  }
 },
 "nbformat": 4,
 "nbformat_minor": 5
}
