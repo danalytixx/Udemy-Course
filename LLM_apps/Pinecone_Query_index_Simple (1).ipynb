{
  "nbformat": 4,
  "nbformat_minor": 0,
  "metadata": {
    "colab": {
      "provenance": []
    },
    "kernelspec": {
      "name": "python3",
      "display_name": "Python 3"
    },
    "language_info": {
      "name": "python"
    }
  },
  "cells": [
    {
      "cell_type": "code",
      "source": [
        "pip install pinecone"
      ],
      "metadata": {
        "colab": {
          "base_uri": "https://localhost:8080/"
        },
        "id": "WGK1VMjYv3Ya",
        "outputId": "89683007-be43-437f-8927-b1fc0bbeeae7"
      },
      "execution_count": 2,
      "outputs": [
        {
          "output_type": "stream",
          "name": "stdout",
          "text": [
            "Collecting pinecone\n",
            "  Downloading pinecone-4.0.0-py3-none-any.whl (214 kB)\n",
            "\u001b[?25l     \u001b[90m━━━━━━━━━━━━━━━━━━━━━━━━━━━━━━━━━━━━━━━━\u001b[0m \u001b[32m0.0/214.4 kB\u001b[0m \u001b[31m?\u001b[0m eta \u001b[36m-:--:--\u001b[0m\r\u001b[2K     \u001b[91m━━━━━━━━━━━━━━━━━━━━━━━━━━━━━━━━━━━━━━\u001b[0m\u001b[90m╺\u001b[0m\u001b[90m━\u001b[0m \u001b[32m204.8/214.4 kB\u001b[0m \u001b[31m6.0 MB/s\u001b[0m eta \u001b[36m0:00:01\u001b[0m\r\u001b[2K     \u001b[90m━━━━━━━━━━━━━━━━━━━━━━━━━━━━━━━━━━━━━━━━\u001b[0m \u001b[32m214.4/214.4 kB\u001b[0m \u001b[31m4.7 MB/s\u001b[0m eta \u001b[36m0:00:00\u001b[0m\n",
            "\u001b[?25hRequirement already satisfied: certifi>=2019.11.17 in /usr/local/lib/python3.10/dist-packages (from pinecone) (2024.6.2)\n",
            "Requirement already satisfied: tqdm>=4.64.1 in /usr/local/lib/python3.10/dist-packages (from pinecone) (4.66.4)\n",
            "Requirement already satisfied: typing-extensions>=3.7.4 in /usr/local/lib/python3.10/dist-packages (from pinecone) (4.12.1)\n",
            "Requirement already satisfied: urllib3>=1.26.0 in /usr/local/lib/python3.10/dist-packages (from pinecone) (2.0.7)\n",
            "Installing collected packages: pinecone\n",
            "Successfully installed pinecone-4.0.0\n"
          ]
        }
      ]
    },
    {
      "cell_type": "code",
      "source": [
        "from google.colab import userdata\n",
        "#userdata.get('YOUR_API_KEY')"
      ],
      "metadata": {
        "id": "HzBOSpdMwIDx"
      },
      "execution_count": 14,
      "outputs": []
    },
    {
      "cell_type": "code",
      "execution_count": 11,
      "metadata": {
        "id": "7KPHToe6vdhy"
      },
      "outputs": [],
      "source": [
        "from pinecone import Pinecone\n",
        "\n",
        "pc = Pinecone(api_key=userdata.get('YOUR_API_KEY'))\n",
        "index = pc.Index(\"env\")"
      ]
    },
    {
      "cell_type": "code",
      "source": [
        "index.upsert(\n",
        "    vectors=[\n",
        "        {\n",
        "            \"id\": \"vec1\",\n",
        "            \"values\": [0.1, 0.1, 0.1, 0.1, 0.1, 0.1, 0.1, 0.1],\n",
        "            \"metadata\": {\"genre\": \"drama\"}\n",
        "        }, {\n",
        "            \"id\": \"vec21\",\n",
        "            \"values\": [0.2, 0.2, 0.2, 0.2, 0.2, 0.2, 0.2, 0.2],\n",
        "            \"metadata\": {\"genre\": \"action\"}\n",
        "        }, {\n",
        "            \"id\": \"vec32\",\n",
        "            \"values\": [0.3, 0.3, 0.3, 0.3, 0.3, 0.3, 0.3, 0.3],\n",
        "            \"metadata\": {\"genre\": \"drama\"}\n",
        "        }, {\n",
        "            \"id\": \"vec4\",\n",
        "            \"values\": [0.4, 0.4, 0.4, 0.6, 0.4, 0.4, 0.4, 0.4],\n",
        "            \"metadata\": {\"genre\": \"action\"}\n",
        "        }\n",
        "    ],\n",
        "    namespace= \"movie\"\n",
        ")"
      ],
      "metadata": {
        "colab": {
          "base_uri": "https://localhost:8080/"
        },
        "id": "BmNJhOJuvxwv",
        "outputId": "e1af8a83-25c1-46a8-f8ac-5a3447720cc9"
      },
      "execution_count": 24,
      "outputs": [
        {
          "output_type": "execute_result",
          "data": {
            "text/plain": [
              "{'upserted_count': 4}"
            ]
          },
          "metadata": {},
          "execution_count": 24
        }
      ]
    },
    {
      "cell_type": "code",
      "source": [
        "index.query(\n",
        "    namespace=\"movie\",\n",
        "    vector=[0.3, 0.3, 0.3, 0.3, 0.3, 0.3, 0.3, 0.3],\n",
        "    top_k=5,\n",
        "    include_values=True,\n",
        "    include_metadata=True,\n",
        "    filter={\"genre\": {\"$eq\": \"action\"}}\n",
        ")"
      ],
      "metadata": {
        "colab": {
          "base_uri": "https://localhost:8080/"
        },
        "id": "8JskYuUAwjJM",
        "outputId": "7c32e3c0-79f1-4ee1-e262-d31a1e551efb"
      },
      "execution_count": 26,
      "outputs": [
        {
          "output_type": "execute_result",
          "data": {
            "text/plain": [
              "{'matches': [{'id': 'vec21',\n",
              "              'metadata': {'genre': 'action'},\n",
              "              'score': 0.0800000429,\n",
              "              'values': [0.2, 0.2, 0.2, 0.2, 0.2, 0.2, 0.2, 0.2]},\n",
              "             {'id': 'vec4',\n",
              "              'metadata': {'genre': 'action'},\n",
              "              'score': 0.160000086,\n",
              "              'values': [0.4, 0.4, 0.4, 0.6, 0.4, 0.4, 0.4, 0.4]}],\n",
              " 'namespace': 'movie',\n",
              " 'usage': {'read_units': 6}}"
            ]
          },
          "metadata": {},
          "execution_count": 26
        }
      ]
    },
    {
      "cell_type": "code",
      "source": [],
      "metadata": {
        "id": "7qNTG_EhwnhD"
      },
      "execution_count": null,
      "outputs": []
    }
  ]
}