{
  "nbformat": 4,
  "nbformat_minor": 0,
  "metadata": {
    "colab": {
      "provenance": [],
      "machine_shape": "hm",
      "gpuType": "A100"
    },
    "kernelspec": {
      "name": "python3",
      "display_name": "Python 3"
    },
    "language_info": {
      "name": "python"
    },
    "accelerator": "GPU"
  },
  "cells": [
    {
      "cell_type": "code",
      "execution_count": 11,
      "metadata": {
        "colab": {
          "base_uri": "https://localhost:8080/"
        },
        "id": "wnCPynvzqQP9",
        "outputId": "b4dc4b6f-7976-4326-9a1c-15f0e9738844"
      },
      "outputs": [
        {
          "output_type": "stream",
          "name": "stdout",
          "text": [
            "Requirement already satisfied: pinecone-client in /usr/local/lib/python3.10/dist-packages (4.1.1)\n",
            "Collecting openai\n",
            "  Downloading openai-1.33.0-py3-none-any.whl (325 kB)\n",
            "\u001b[2K     \u001b[90m━━━━━━━━━━━━━━━━━━━━━━━━━━━━━━━━━━━━━━━━\u001b[0m \u001b[32m325.5/325.5 kB\u001b[0m \u001b[31m7.0 MB/s\u001b[0m eta \u001b[36m0:00:00\u001b[0m\n",
            "\u001b[?25hCollecting wget\n",
            "  Downloading wget-3.2.zip (10 kB)\n",
            "  Preparing metadata (setup.py) ... \u001b[?25l\u001b[?25hdone\n",
            "Requirement already satisfied: certifi>=2019.11.17 in /usr/local/lib/python3.10/dist-packages (from pinecone-client) (2024.6.2)\n",
            "Requirement already satisfied: pinecone-plugin-interface<0.0.8,>=0.0.7 in /usr/local/lib/python3.10/dist-packages (from pinecone-client) (0.0.7)\n",
            "Requirement already satisfied: tqdm>=4.64.1 in /usr/local/lib/python3.10/dist-packages (from pinecone-client) (4.66.4)\n",
            "Requirement already satisfied: typing-extensions>=3.7.4 in /usr/local/lib/python3.10/dist-packages (from pinecone-client) (4.12.1)\n",
            "Requirement already satisfied: urllib3>=1.26.0 in /usr/local/lib/python3.10/dist-packages (from pinecone-client) (2.0.7)\n",
            "Requirement already satisfied: anyio<5,>=3.5.0 in /usr/local/lib/python3.10/dist-packages (from openai) (3.7.1)\n",
            "Requirement already satisfied: distro<2,>=1.7.0 in /usr/lib/python3/dist-packages (from openai) (1.7.0)\n",
            "Collecting httpx<1,>=0.23.0 (from openai)\n",
            "  Downloading httpx-0.27.0-py3-none-any.whl (75 kB)\n",
            "\u001b[2K     \u001b[90m━━━━━━━━━━━━━━━━━━━━━━━━━━━━━━━━━━━━━━━━\u001b[0m \u001b[32m75.6/75.6 kB\u001b[0m \u001b[31m12.8 MB/s\u001b[0m eta \u001b[36m0:00:00\u001b[0m\n",
            "\u001b[?25hRequirement already satisfied: pydantic<3,>=1.9.0 in /usr/local/lib/python3.10/dist-packages (from openai) (2.7.3)\n",
            "Requirement already satisfied: sniffio in /usr/local/lib/python3.10/dist-packages (from openai) (1.3.1)\n",
            "Requirement already satisfied: idna>=2.8 in /usr/local/lib/python3.10/dist-packages (from anyio<5,>=3.5.0->openai) (3.7)\n",
            "Requirement already satisfied: exceptiongroup in /usr/local/lib/python3.10/dist-packages (from anyio<5,>=3.5.0->openai) (1.2.1)\n",
            "Collecting httpcore==1.* (from httpx<1,>=0.23.0->openai)\n",
            "  Downloading httpcore-1.0.5-py3-none-any.whl (77 kB)\n",
            "\u001b[2K     \u001b[90m━━━━━━━━━━━━━━━━━━━━━━━━━━━━━━━━━━━━━━━━\u001b[0m \u001b[32m77.9/77.9 kB\u001b[0m \u001b[31m13.7 MB/s\u001b[0m eta \u001b[36m0:00:00\u001b[0m\n",
            "\u001b[?25hCollecting h11<0.15,>=0.13 (from httpcore==1.*->httpx<1,>=0.23.0->openai)\n",
            "  Downloading h11-0.14.0-py3-none-any.whl (58 kB)\n",
            "\u001b[2K     \u001b[90m━━━━━━━━━━━━━━━━━━━━━━━━━━━━━━━━━━━━━━━━\u001b[0m \u001b[32m58.3/58.3 kB\u001b[0m \u001b[31m10.1 MB/s\u001b[0m eta \u001b[36m0:00:00\u001b[0m\n",
            "\u001b[?25hRequirement already satisfied: annotated-types>=0.4.0 in /usr/local/lib/python3.10/dist-packages (from pydantic<3,>=1.9.0->openai) (0.7.0)\n",
            "Requirement already satisfied: pydantic-core==2.18.4 in /usr/local/lib/python3.10/dist-packages (from pydantic<3,>=1.9.0->openai) (2.18.4)\n",
            "Building wheels for collected packages: wget\n",
            "  Building wheel for wget (setup.py) ... \u001b[?25l\u001b[?25hdone\n",
            "  Created wheel for wget: filename=wget-3.2-py3-none-any.whl size=9656 sha256=3eae0265f1de532fd84a2ae00b4324eb19d2552e36fe911fe1debdcb71020a32\n",
            "  Stored in directory: /root/.cache/pip/wheels/8b/f1/7f/5c94f0a7a505ca1c81cd1d9208ae2064675d97582078e6c769\n",
            "Successfully built wget\n",
            "Installing collected packages: wget, h11, httpcore, httpx, openai\n",
            "Successfully installed h11-0.14.0 httpcore-1.0.5 httpx-0.27.0 openai-1.33.0 wget-3.2\n"
          ]
        }
      ],
      "source": [
        "pip install pinecone-client openai wget"
      ]
    },
    {
      "cell_type": "markdown",
      "source": [
        "https://cookbook.openai.com/examples/vector_databases/pinecone/using_pinecone_for_embeddings_search"
      ],
      "metadata": {
        "id": "7dEyO8XmEDfk"
      }
    },
    {
      "cell_type": "markdown",
      "source": [
        "# Get data"
      ],
      "metadata": {
        "id": "auBoIisSERcy"
      }
    },
    {
      "cell_type": "code",
      "source": [
        "import openai\n",
        "\n",
        "from typing import List, Iterator\n",
        "import pandas as pd\n",
        "import numpy as np\n",
        "import os\n",
        "import wget\n",
        "from ast import literal_eval\n",
        "\n",
        "# Pinecone's client library for Python\n",
        "import pinecone\n",
        "\n",
        "# I've set this to our new embeddings model, this can be changed to the embedding model of your choice\n",
        "EMBEDDING_MODEL = \"text-embedding-3-small\"\n",
        "\n",
        "# Ignore unclosed SSL socket warnings - optional in case you get these errors\n",
        "import warnings\n",
        "\n",
        "warnings.filterwarnings(action=\"ignore\", message=\"unclosed\", category=ResourceWarning)\n",
        "warnings.filterwarnings(\"ignore\", category=DeprecationWarning)"
      ],
      "metadata": {
        "id": "BFdPNqHqq4SN"
      },
      "execution_count": 12,
      "outputs": []
    },
    {
      "cell_type": "code",
      "source": [
        "embeddings_url = 'https://cdn.openai.com/API/examples/data/vector_database_wikipedia_articles_embedded.zip'\n",
        "\n",
        "# The file is ~700 MB so this will take some time\n",
        "wget.download(embeddings_url)"
      ],
      "metadata": {
        "colab": {
          "base_uri": "https://localhost:8080/",
          "height": 36
        },
        "id": "-CdmG2fyq9mR",
        "outputId": "cb8b6361-7642-414e-ca5f-f16eeb26910f"
      },
      "execution_count": 13,
      "outputs": [
        {
          "output_type": "execute_result",
          "data": {
            "text/plain": [
              "'vector_database_wikipedia_articles_embedded.zip'"
            ],
            "application/vnd.google.colaboratory.intrinsic+json": {
              "type": "string"
            }
          },
          "metadata": {},
          "execution_count": 13
        }
      ]
    },
    {
      "cell_type": "code",
      "source": [
        "import zipfile\n",
        "with zipfile.ZipFile(\"vector_database_wikipedia_articles_embedded.zip\",\"r\") as zip_ref:\n",
        "    zip_ref.extractall(\"../data\")"
      ],
      "metadata": {
        "id": "KR4lRV69tCdC"
      },
      "execution_count": 14,
      "outputs": []
    },
    {
      "cell_type": "code",
      "source": [
        "article_df = pd.read_csv('../data/vector_database_wikipedia_articles_embedded.csv')"
      ],
      "metadata": {
        "id": "9c05kV8ytGe-"
      },
      "execution_count": 15,
      "outputs": []
    },
    {
      "cell_type": "code",
      "source": [
        "article_df.head()"
      ],
      "metadata": {
        "colab": {
          "base_uri": "https://localhost:8080/",
          "height": 293
        },
        "id": "H-hhCy9itIlQ",
        "outputId": "b81d1b5e-3c26-464c-f70b-2f05a0207475"
      },
      "execution_count": 38,
      "outputs": [
        {
          "output_type": "execute_result",
          "data": {
            "text/plain": [
              "   id                                       url   title  \\\n",
              "0   1   https://simple.wikipedia.org/wiki/April   April   \n",
              "1   2  https://simple.wikipedia.org/wiki/August  August   \n",
              "2   6     https://simple.wikipedia.org/wiki/Art     Art   \n",
              "3   8       https://simple.wikipedia.org/wiki/A       A   \n",
              "4   9     https://simple.wikipedia.org/wiki/Air     Air   \n",
              "\n",
              "                                                text  \\\n",
              "0  April is the fourth month of the year in the J...   \n",
              "1  August (Aug.) is the eighth month of the year ...   \n",
              "2  Art is a creative activity that expresses imag...   \n",
              "3  A or a is the first letter of the English alph...   \n",
              "4  Air refers to the Earth's atmosphere. Air is a...   \n",
              "\n",
              "                                        title_vector  \\\n",
              "0  [0.001009464613161981, -0.020700545981526375, ...   \n",
              "1  [0.0009286514250561595, 0.000820168002974242, ...   \n",
              "2  [0.003393713850528002, 0.0061537534929811954, ...   \n",
              "3  [0.0153952119871974, -0.013759135268628597, 0....   \n",
              "4  [0.02224554680287838, -0.02044147066771984, -0...   \n",
              "\n",
              "                                      content_vector vector_id  \n",
              "0  [-0.011253940872848034, -0.013491976074874401,...         0  \n",
              "1  [0.0003609954728744924, 0.007262262050062418, ...         1  \n",
              "2  [-0.004959689453244209, 0.015772193670272827, ...         2  \n",
              "3  [0.024894846603274345, -0.022186409682035446, ...         3  \n",
              "4  [0.021524671465158463, 0.018522677943110466, -...         4  "
            ],
            "text/html": [
              "\n",
              "  <div id=\"df-1683eb04-0003-45bb-a476-2dafa95e5af9\" class=\"colab-df-container\">\n",
              "    <div>\n",
              "<style scoped>\n",
              "    .dataframe tbody tr th:only-of-type {\n",
              "        vertical-align: middle;\n",
              "    }\n",
              "\n",
              "    .dataframe tbody tr th {\n",
              "        vertical-align: top;\n",
              "    }\n",
              "\n",
              "    .dataframe thead th {\n",
              "        text-align: right;\n",
              "    }\n",
              "</style>\n",
              "<table border=\"1\" class=\"dataframe\">\n",
              "  <thead>\n",
              "    <tr style=\"text-align: right;\">\n",
              "      <th></th>\n",
              "      <th>id</th>\n",
              "      <th>url</th>\n",
              "      <th>title</th>\n",
              "      <th>text</th>\n",
              "      <th>title_vector</th>\n",
              "      <th>content_vector</th>\n",
              "      <th>vector_id</th>\n",
              "    </tr>\n",
              "  </thead>\n",
              "  <tbody>\n",
              "    <tr>\n",
              "      <th>0</th>\n",
              "      <td>1</td>\n",
              "      <td>https://simple.wikipedia.org/wiki/April</td>\n",
              "      <td>April</td>\n",
              "      <td>April is the fourth month of the year in the J...</td>\n",
              "      <td>[0.001009464613161981, -0.020700545981526375, ...</td>\n",
              "      <td>[-0.011253940872848034, -0.013491976074874401,...</td>\n",
              "      <td>0</td>\n",
              "    </tr>\n",
              "    <tr>\n",
              "      <th>1</th>\n",
              "      <td>2</td>\n",
              "      <td>https://simple.wikipedia.org/wiki/August</td>\n",
              "      <td>August</td>\n",
              "      <td>August (Aug.) is the eighth month of the year ...</td>\n",
              "      <td>[0.0009286514250561595, 0.000820168002974242, ...</td>\n",
              "      <td>[0.0003609954728744924, 0.007262262050062418, ...</td>\n",
              "      <td>1</td>\n",
              "    </tr>\n",
              "    <tr>\n",
              "      <th>2</th>\n",
              "      <td>6</td>\n",
              "      <td>https://simple.wikipedia.org/wiki/Art</td>\n",
              "      <td>Art</td>\n",
              "      <td>Art is a creative activity that expresses imag...</td>\n",
              "      <td>[0.003393713850528002, 0.0061537534929811954, ...</td>\n",
              "      <td>[-0.004959689453244209, 0.015772193670272827, ...</td>\n",
              "      <td>2</td>\n",
              "    </tr>\n",
              "    <tr>\n",
              "      <th>3</th>\n",
              "      <td>8</td>\n",
              "      <td>https://simple.wikipedia.org/wiki/A</td>\n",
              "      <td>A</td>\n",
              "      <td>A or a is the first letter of the English alph...</td>\n",
              "      <td>[0.0153952119871974, -0.013759135268628597, 0....</td>\n",
              "      <td>[0.024894846603274345, -0.022186409682035446, ...</td>\n",
              "      <td>3</td>\n",
              "    </tr>\n",
              "    <tr>\n",
              "      <th>4</th>\n",
              "      <td>9</td>\n",
              "      <td>https://simple.wikipedia.org/wiki/Air</td>\n",
              "      <td>Air</td>\n",
              "      <td>Air refers to the Earth's atmosphere. Air is a...</td>\n",
              "      <td>[0.02224554680287838, -0.02044147066771984, -0...</td>\n",
              "      <td>[0.021524671465158463, 0.018522677943110466, -...</td>\n",
              "      <td>4</td>\n",
              "    </tr>\n",
              "  </tbody>\n",
              "</table>\n",
              "</div>\n",
              "    <div class=\"colab-df-buttons\">\n",
              "\n",
              "  <div class=\"colab-df-container\">\n",
              "    <button class=\"colab-df-convert\" onclick=\"convertToInteractive('df-1683eb04-0003-45bb-a476-2dafa95e5af9')\"\n",
              "            title=\"Convert this dataframe to an interactive table.\"\n",
              "            style=\"display:none;\">\n",
              "\n",
              "  <svg xmlns=\"http://www.w3.org/2000/svg\" height=\"24px\" viewBox=\"0 -960 960 960\">\n",
              "    <path d=\"M120-120v-720h720v720H120Zm60-500h600v-160H180v160Zm220 220h160v-160H400v160Zm0 220h160v-160H400v160ZM180-400h160v-160H180v160Zm440 0h160v-160H620v160ZM180-180h160v-160H180v160Zm440 0h160v-160H620v160Z\"/>\n",
              "  </svg>\n",
              "    </button>\n",
              "\n",
              "  <style>\n",
              "    .colab-df-container {\n",
              "      display:flex;\n",
              "      gap: 12px;\n",
              "    }\n",
              "\n",
              "    .colab-df-convert {\n",
              "      background-color: #E8F0FE;\n",
              "      border: none;\n",
              "      border-radius: 50%;\n",
              "      cursor: pointer;\n",
              "      display: none;\n",
              "      fill: #1967D2;\n",
              "      height: 32px;\n",
              "      padding: 0 0 0 0;\n",
              "      width: 32px;\n",
              "    }\n",
              "\n",
              "    .colab-df-convert:hover {\n",
              "      background-color: #E2EBFA;\n",
              "      box-shadow: 0px 1px 2px rgba(60, 64, 67, 0.3), 0px 1px 3px 1px rgba(60, 64, 67, 0.15);\n",
              "      fill: #174EA6;\n",
              "    }\n",
              "\n",
              "    .colab-df-buttons div {\n",
              "      margin-bottom: 4px;\n",
              "    }\n",
              "\n",
              "    [theme=dark] .colab-df-convert {\n",
              "      background-color: #3B4455;\n",
              "      fill: #D2E3FC;\n",
              "    }\n",
              "\n",
              "    [theme=dark] .colab-df-convert:hover {\n",
              "      background-color: #434B5C;\n",
              "      box-shadow: 0px 1px 3px 1px rgba(0, 0, 0, 0.15);\n",
              "      filter: drop-shadow(0px 1px 2px rgba(0, 0, 0, 0.3));\n",
              "      fill: #FFFFFF;\n",
              "    }\n",
              "  </style>\n",
              "\n",
              "    <script>\n",
              "      const buttonEl =\n",
              "        document.querySelector('#df-1683eb04-0003-45bb-a476-2dafa95e5af9 button.colab-df-convert');\n",
              "      buttonEl.style.display =\n",
              "        google.colab.kernel.accessAllowed ? 'block' : 'none';\n",
              "\n",
              "      async function convertToInteractive(key) {\n",
              "        const element = document.querySelector('#df-1683eb04-0003-45bb-a476-2dafa95e5af9');\n",
              "        const dataTable =\n",
              "          await google.colab.kernel.invokeFunction('convertToInteractive',\n",
              "                                                    [key], {});\n",
              "        if (!dataTable) return;\n",
              "\n",
              "        const docLinkHtml = 'Like what you see? Visit the ' +\n",
              "          '<a target=\"_blank\" href=https://colab.research.google.com/notebooks/data_table.ipynb>data table notebook</a>'\n",
              "          + ' to learn more about interactive tables.';\n",
              "        element.innerHTML = '';\n",
              "        dataTable['output_type'] = 'display_data';\n",
              "        await google.colab.output.renderOutput(dataTable, element);\n",
              "        const docLink = document.createElement('div');\n",
              "        docLink.innerHTML = docLinkHtml;\n",
              "        element.appendChild(docLink);\n",
              "      }\n",
              "    </script>\n",
              "  </div>\n",
              "\n",
              "\n",
              "<div id=\"df-157bc954-1a05-4972-833f-fb4f9cf434aa\">\n",
              "  <button class=\"colab-df-quickchart\" onclick=\"quickchart('df-157bc954-1a05-4972-833f-fb4f9cf434aa')\"\n",
              "            title=\"Suggest charts\"\n",
              "            style=\"display:none;\">\n",
              "\n",
              "<svg xmlns=\"http://www.w3.org/2000/svg\" height=\"24px\"viewBox=\"0 0 24 24\"\n",
              "     width=\"24px\">\n",
              "    <g>\n",
              "        <path d=\"M19 3H5c-1.1 0-2 .9-2 2v14c0 1.1.9 2 2 2h14c1.1 0 2-.9 2-2V5c0-1.1-.9-2-2-2zM9 17H7v-7h2v7zm4 0h-2V7h2v10zm4 0h-2v-4h2v4z\"/>\n",
              "    </g>\n",
              "</svg>\n",
              "  </button>\n",
              "\n",
              "<style>\n",
              "  .colab-df-quickchart {\n",
              "      --bg-color: #E8F0FE;\n",
              "      --fill-color: #1967D2;\n",
              "      --hover-bg-color: #E2EBFA;\n",
              "      --hover-fill-color: #174EA6;\n",
              "      --disabled-fill-color: #AAA;\n",
              "      --disabled-bg-color: #DDD;\n",
              "  }\n",
              "\n",
              "  [theme=dark] .colab-df-quickchart {\n",
              "      --bg-color: #3B4455;\n",
              "      --fill-color: #D2E3FC;\n",
              "      --hover-bg-color: #434B5C;\n",
              "      --hover-fill-color: #FFFFFF;\n",
              "      --disabled-bg-color: #3B4455;\n",
              "      --disabled-fill-color: #666;\n",
              "  }\n",
              "\n",
              "  .colab-df-quickchart {\n",
              "    background-color: var(--bg-color);\n",
              "    border: none;\n",
              "    border-radius: 50%;\n",
              "    cursor: pointer;\n",
              "    display: none;\n",
              "    fill: var(--fill-color);\n",
              "    height: 32px;\n",
              "    padding: 0;\n",
              "    width: 32px;\n",
              "  }\n",
              "\n",
              "  .colab-df-quickchart:hover {\n",
              "    background-color: var(--hover-bg-color);\n",
              "    box-shadow: 0 1px 2px rgba(60, 64, 67, 0.3), 0 1px 3px 1px rgba(60, 64, 67, 0.15);\n",
              "    fill: var(--button-hover-fill-color);\n",
              "  }\n",
              "\n",
              "  .colab-df-quickchart-complete:disabled,\n",
              "  .colab-df-quickchart-complete:disabled:hover {\n",
              "    background-color: var(--disabled-bg-color);\n",
              "    fill: var(--disabled-fill-color);\n",
              "    box-shadow: none;\n",
              "  }\n",
              "\n",
              "  .colab-df-spinner {\n",
              "    border: 2px solid var(--fill-color);\n",
              "    border-color: transparent;\n",
              "    border-bottom-color: var(--fill-color);\n",
              "    animation:\n",
              "      spin 1s steps(1) infinite;\n",
              "  }\n",
              "\n",
              "  @keyframes spin {\n",
              "    0% {\n",
              "      border-color: transparent;\n",
              "      border-bottom-color: var(--fill-color);\n",
              "      border-left-color: var(--fill-color);\n",
              "    }\n",
              "    20% {\n",
              "      border-color: transparent;\n",
              "      border-left-color: var(--fill-color);\n",
              "      border-top-color: var(--fill-color);\n",
              "    }\n",
              "    30% {\n",
              "      border-color: transparent;\n",
              "      border-left-color: var(--fill-color);\n",
              "      border-top-color: var(--fill-color);\n",
              "      border-right-color: var(--fill-color);\n",
              "    }\n",
              "    40% {\n",
              "      border-color: transparent;\n",
              "      border-right-color: var(--fill-color);\n",
              "      border-top-color: var(--fill-color);\n",
              "    }\n",
              "    60% {\n",
              "      border-color: transparent;\n",
              "      border-right-color: var(--fill-color);\n",
              "    }\n",
              "    80% {\n",
              "      border-color: transparent;\n",
              "      border-right-color: var(--fill-color);\n",
              "      border-bottom-color: var(--fill-color);\n",
              "    }\n",
              "    90% {\n",
              "      border-color: transparent;\n",
              "      border-bottom-color: var(--fill-color);\n",
              "    }\n",
              "  }\n",
              "</style>\n",
              "\n",
              "  <script>\n",
              "    async function quickchart(key) {\n",
              "      const quickchartButtonEl =\n",
              "        document.querySelector('#' + key + ' button');\n",
              "      quickchartButtonEl.disabled = true;  // To prevent multiple clicks.\n",
              "      quickchartButtonEl.classList.add('colab-df-spinner');\n",
              "      try {\n",
              "        const charts = await google.colab.kernel.invokeFunction(\n",
              "            'suggestCharts', [key], {});\n",
              "      } catch (error) {\n",
              "        console.error('Error during call to suggestCharts:', error);\n",
              "      }\n",
              "      quickchartButtonEl.classList.remove('colab-df-spinner');\n",
              "      quickchartButtonEl.classList.add('colab-df-quickchart-complete');\n",
              "    }\n",
              "    (() => {\n",
              "      let quickchartButtonEl =\n",
              "        document.querySelector('#df-157bc954-1a05-4972-833f-fb4f9cf434aa button');\n",
              "      quickchartButtonEl.style.display =\n",
              "        google.colab.kernel.accessAllowed ? 'block' : 'none';\n",
              "    })();\n",
              "  </script>\n",
              "</div>\n",
              "    </div>\n",
              "  </div>\n"
            ],
            "application/vnd.google.colaboratory.intrinsic+json": {
              "type": "dataframe",
              "variable_name": "article_df",
              "summary": "{\n  \"name\": \"article_df\",\n  \"rows\": 25000,\n  \"fields\": [\n    {\n      \"column\": \"id\",\n      \"properties\": {\n        \"dtype\": \"number\",\n        \"std\": 28699,\n        \"min\": 1,\n        \"max\": 412358,\n        \"num_unique_values\": 25000,\n        \"samples\": [\n          21639,\n          92728,\n          32954\n        ],\n        \"semantic_type\": \"\",\n        \"description\": \"\"\n      }\n    },\n    {\n      \"column\": \"url\",\n      \"properties\": {\n        \"dtype\": \"string\",\n        \"num_unique_values\": 25000,\n        \"samples\": [\n          \"https://simple.wikipedia.org/wiki/Witch\",\n          \"https://simple.wikipedia.org/wiki/Hemishofen\",\n          \"https://simple.wikipedia.org/wiki/Woodwind%20instrument\"\n        ],\n        \"semantic_type\": \"\",\n        \"description\": \"\"\n      }\n    },\n    {\n      \"column\": \"title\",\n      \"properties\": {\n        \"dtype\": \"string\",\n        \"num_unique_values\": 25000,\n        \"samples\": [\n          \"Witch\",\n          \"Hemishofen\",\n          \"Woodwind instrument\"\n        ],\n        \"semantic_type\": \"\",\n        \"description\": \"\"\n      }\n    },\n    {\n      \"column\": \"text\",\n      \"properties\": {\n        \"dtype\": \"string\",\n        \"num_unique_values\": 25000,\n        \"samples\": [\n          \"A witch is a person who practices witchcraft or magic. Traditionally, the word \\u201cwitch\\u201d was used as an accusation. Witches were accused of bewitching people, or casting spells to control them. \\n\\nToday, followers of Wicca practice witchcraft and worship nature. Some call themselves witches. Note that the practicioners of Wicca are completely unrelated to the historical Witches, this article is about.\\n\\nHistory \\nMost indigenous peoples throughout history have had some beliefs about spirits and believed that certain individuals could gain magical powers through herbs or spirits. However, these individuals were not called 'witches' until indigenous people had contact with western ideas. Spirits and people who interacted with them were not always viewed negatively in indigenous societies.\\n\\nThe Malleus Maleficarum \\nThe Malleus Maleficarum, a book published in 1487, fueled panic over witchcraft. It was written by a German Catholic clergyman named Heinrich Kramer. The book was a witch-hunting manual that explained how to persecute witches. It suggested using torture to get accused witches to confess to witchcraft. It also encouraged  burning \\u201cwitches\\u201d at the stake. \\n\\nThe new technology of the printing press made it possible for Malleus Maleficarum to be mass produced. The book was printed 29 times before 1669 - more than any other book except the Bible. As a result, its ideas spread throughout Europe. These ideas were common in Europe for several centuries after the book was published.\\n\\nThe book says that three things are needed in order to create witchcraft: the witch\\u2019s evil intentions, the Devil\\u2019s help, and God\\u2019s permission.\\n\\nWitch Hunts \\n\\nMany women throughout Europe and in South America were killed by witch hunts. Historians debate how many women were killed. Because of poor record keeping, it is impossible to know exactly how many victims there were. Also, historians have different opinions about what regions and time frames should be included when estimating how many women were killed in witch hunts.\\n\\nThe entire persecuting legal system - \\\"judges, ministers, priests, constables, jailers, judges, doctors, prickers, torturers, jurors, executioners\\\" - were nearly all male. Meanwhile, the victims were overwhelmingly female. For this reason, some scholars call the witch hunts a \\\"gynocide\\\". In the documentary The Burning Times, Thea Jensen calls this period in history a \\\"Women's Holocaust\\\".\\n\\nModern understanding \\n\\nIn the 20th century, many people made a new attempt to understand witchcraft. Some say that witches were in fact wise women who were hunted down by the Catholic Church - mostly for their knowledge about how to treat certain diseases using herbs. Some followers of pagan religions like Wicca began to call themselves witches. This has led to a new understanding of what a \\u201cwitch\\u201d really is.\\n\\nHeather Marsh has tied the persecution of witches to the fight of church and industry to control \\\"the power of life and death\\\" at a time when industry needed more workers. She also argues the persecution of witches was a fight for centralized power over the peasant rebellions and the ownership of knowledge by medicine and science which forbade the earlier teaching or practices by women and indigenous cultures. She writes that the persecution of witches has colored misogyny since the 1400s.\\n\\nSilvia Federici tied the witch hunts to a\\u00a0history of the female body in the transition to capitalism.\\n\\nWitchcraft and accusations of witchcraft are still very common in some parts of West Africa.\\n\\nWitch crimes in the Malleus Maleficarum \\nControl of procreation was a constant theme, as was medical knowledge:\\n\\nConcerning Witches who copulate with Devils. Why is it that Women are chiefly addicted to Evil superstitions?\\n\\nWhether Witches may work some Prestidigatory Illusion so that the Male Organ appears to be entirely removed and separate from the Body.\\n\\nThat Witches who are Midwives in Various Ways Kill the Child Conceived in the Womb, and Procure an Abortion; or if they do not this Offer New-born Children to Devils.\\n\\nHow Witches Impede and Prevent the Power of Procreation.\\n\\nHow, as it were, they Deprive Man of his Virile Member.\\n\\nOf the Manner whereby they Change Men into the Shapes of Beasts.\\n\\nOf the Method by which Devils through the Operations of Witches sometimes actually possess men.\\n\\nOf the Method by which they can Inflict Every Sort of Infirmity, generally Ills of the Graver Kind.\\n\\nOf the Way how in Particular they Afflict Men with Other Like Infirmities.\\n\\nHow Witch Midwives commit most Horrid Crimes when they either Kill Children or Offer them to Devils in most Accursed Wise.\\n\\nFilm \\nHocus Pocus\\n\\nThe Wizard Of Oz\\n\\nFamous people accused of witchcraft\\n 1431: Joan of Arc. She was burned at the stake on 30 May.\\n 1591: Elizabeth of Dobersch\\u00fctz. She was beheaded and burnt outside the gates of Stettin, on 17 December.\\n1594: Maria Holl (also known as The Witch of N\\u00f6rdlingen). She was one of the first women to withstand being tortured during her witch trial of 1593-1594. She was eventually cleared of the accusations, which led some people to doubt the righteousness of witch trials. Through her force, Holl rid the town of N\\u00f6rdlingen of their witch craze.   She died in 1634, probably from the plague.\\n1612: The Samlesbury witches. In August of 1612, they were found not guilty in one of the most famous witch trials in English history. However, ten other people were found guilty and were hanged.\\n1635: Hester Jonas (also called The Witch of Neuss). She was beheaded and burnt on Christmas Eve in 1635, at about 64 years old. The complete proceedings of the trial are still available in Neuss.\\n 1663: Anna Roleffes (better known as Tempel Anneke). She was one of the last witches to be executed in Braunschweig. She was beheaded on 30 December.\\n1680: Catherine Monvoisin, a lover of Louis XIV who was close to Marquise the Montespan. She delivered poisons and held black masses for payment. In 1680, she was burnt to death along with some other accused witches on the Place de la Gr\\u00e8ve in Paris.\\n1692: The witches accused during the Salem Witch Trials in Salem, Massachusetts. Today, Salem is called \\u201cthe Witch City,\\u201d and historical sites related to the witch trials are tourist attractions.\\n 1751: Anna Schnidenwind. She was one of the last women to be publicly executed for witchcraft in Germany. On 24 April, in Endingen am Kaiserstuhl, she was strangled to death, then burned.\\n 1782: Anna G\\u00f6ldi (or G\\u00f6ldin). She was the last witch to be executed in Europe. Her execution happened in Glarus, Switzerland, in the summer of 1782.\\n\\nReferences\\n\\nOther websites\\n\\n Some historical notes on the witch-craze from the historian Trevor Roper \\n Kabbalah On Witchcraft - A Jewish view (Audio) chabad.org\\n Jewish Encyclopedia: Witchcraft\\n Witchcraft in the Catholic Encyclopedia on (New Advent)\\n Witchcraft and Devil Lore in the Channel Islands, 1886, by John Linwood Pitts,  from Project Gutenberg\\n A Treatise of Witchcraft, 1616, by Alexander Roberts, from Project Gutenberg\\n The Witches' Voice 1997-2007 The Witches' Voice Inc\\n\\nReligion\",\n          \"Hemishofen is a municipality in the canton of Schaffhausen in Switzerland.\\n\\nReferences\\n\\nMunicipalities of Schaffhausen\",\n          \"A woodwind instrument is an instrument belonging to the woodwind family.  Traditionally they were always made of wood, although some of them are now made of metal or plastic.\\n\\nIn an orchestra there are four main types of woodwind instrument.  Each of these also has related instruments of different sizes:\\n\\nThe piccolo is the highest of the four main instruments.  The lowest note is Middle C and it has a range of 3 octaves.  The piccolo is the smallest and highest instrument in the orchestra.  It plays one octave higher than the flute.  There is also an alto flute which sounds a fifth lower than the ordinary flute.  Flutes are still sometimes made of wood, but mostly they are metal.\\n\\nThe oboe can play slightly lower than the flute.  There is a larger version called the cor anglais (which means: \\u201cEnglish horn\\u201d). This is a double reeded instrument. The clarinet plays nearly an octave lower than the flute.  The bass clarinet plays an octave lower than the clarinet. The bassoon is the lowest of the four.\\n\\nThe recorder is one of the oldest and most popular woodwinds and has been used to great effect by greats, such as Bach, Telemann and Vivaldi.  The general public is normally only familiar with the plastic, child's version of the recorder, but professional and high-quality recorders are still made of wood.\\n\\nThe saxophone may look like a brass instrument, but it is played like a clarinet and therefore it is a woodwind instrument.  It is usually played in bands and jazz groups.\\n\\nUse \\nWoodwind instruments are played in several ways. The flute is played by blowing across the top of the mouthpiece.  It is like blowing across the top of an empty bottle.  The oboe and bassoon both have a double reed.  It is like blowing through a drinking straw.  Bagpipes have double reeds which are inside the mouthpiece (\\u201cenclosed reeds\\u201d). The clarinet and saxophone have single reeds which are clamped against the opening of the mouthpiece.\\n\\nIn comparison, brass instruments are all blown in the same way: by blowing against a cup-shaped mouthpiece.  This is why the saxophone cannot be called a brass instrument, although it is made of brass.\\n\\nThe way that a player shapes his mouth to blow an instrument is called the \\u201cembouchure\\u201d.  Woodwind instruments have several different embouchures.\\n\\nIn an orchestra there may be two each of flutes, oboes, clarinets and bassoons.  In larger orchestras, particularly from the Romantic period onwards, there may be three or four.  Sometimes the extra instruments such as the piccolo are used.  If, for example, in an orchestral piece the third flute is marked \\u201cdoubling piccolo\\u201d, it means that the person playing flute 3 will also play the piccolo.  However, if the piccolo plays at the same time as flute 3 they will obviously need an extra player for the piccolo part.\\n\\nWoodwind instruments in an orchestra often have short solos.  These will be played by the first player (the \\u201csection principal\\u201d).\"\n        ],\n        \"semantic_type\": \"\",\n        \"description\": \"\"\n      }\n    },\n    {\n      \"column\": \"title_vector\",\n      \"properties\": {\n        \"dtype\": \"object\",\n        \"semantic_type\": \"\",\n        \"description\": \"\"\n      }\n    },\n    {\n      \"column\": \"content_vector\",\n      \"properties\": {\n        \"dtype\": \"object\",\n        \"semantic_type\": \"\",\n        \"description\": \"\"\n      }\n    },\n    {\n      \"column\": \"vector_id\",\n      \"properties\": {\n        \"dtype\": \"string\",\n        \"num_unique_values\": 25000,\n        \"samples\": [\n          \"6868\",\n          \"24016\",\n          \"9668\"\n        ],\n        \"semantic_type\": \"\",\n        \"description\": \"\"\n      }\n    }\n  ]\n}"
            }
          },
          "metadata": {},
          "execution_count": 38
        }
      ]
    },
    {
      "cell_type": "code",
      "source": [
        "# Read vectors from strings back into a list\n",
        "article_df['title_vector'] = article_df.title_vector.apply(literal_eval)\n",
        "article_df['content_vector'] = article_df.content_vector.apply(literal_eval)\n",
        "\n",
        "# Set vector_id to be a string\n",
        "article_df['vector_id'] = article_df['vector_id'].apply(str)"
      ],
      "metadata": {
        "id": "ba5LtmGptNSp"
      },
      "execution_count": 17,
      "outputs": []
    },
    {
      "cell_type": "code",
      "source": [
        "article_df.info(show_counts=True)"
      ],
      "metadata": {
        "colab": {
          "base_uri": "https://localhost:8080/"
        },
        "id": "i6xnp02RtQJD",
        "outputId": "6eae177c-e3e0-4f4b-f2d8-9daf84f4bb43"
      },
      "execution_count": 58,
      "outputs": [
        {
          "output_type": "stream",
          "name": "stdout",
          "text": [
            "<class 'pandas.core.frame.DataFrame'>\n",
            "RangeIndex: 200 entries, 0 to 199\n",
            "Data columns (total 7 columns):\n",
            " #   Column          Non-Null Count  Dtype \n",
            "---  ------          --------------  ----- \n",
            " 0   id              200 non-null    int64 \n",
            " 1   url             200 non-null    object\n",
            " 2   title           200 non-null    object\n",
            " 3   text            200 non-null    object\n",
            " 4   title_vector    200 non-null    object\n",
            " 5   content_vector  200 non-null    object\n",
            " 6   vector_id       200 non-null    object\n",
            "dtypes: int64(1), object(6)\n",
            "memory usage: 11.1+ KB\n"
          ]
        }
      ]
    },
    {
      "cell_type": "markdown",
      "source": [
        "# **Pinecone**"
      ],
      "metadata": {
        "id": "I-BT9OsYD1Lb"
      }
    },
    {
      "cell_type": "code",
      "source": [
        "article_df=article_df.head(200)"
      ],
      "metadata": {
        "id": "jWNHJAwi52zT"
      },
      "execution_count": 57,
      "outputs": []
    },
    {
      "cell_type": "code",
      "source": [
        "from google.colab import userdata\n",
        "userdata.get('secretName')"
      ],
      "metadata": {
        "id": "ZcLvVvQ2tSVJ"
      },
      "execution_count": null,
      "outputs": []
    },
    {
      "cell_type": "code",
      "source": [
        "import os\n",
        "import pinecone\n",
        "from pinecone import Pinecone, ServerlessSpec\n",
        "\n",
        "pinecone = Pinecone(api_key=userdata.get('YOUR_API_KEY'))"
      ],
      "metadata": {
        "id": "8oLE1tMJuQIK"
      },
      "execution_count": 26,
      "outputs": []
    },
    {
      "cell_type": "code",
      "source": [
        "# Models a simple batch generator that make chunks out of an input DataFrame\n",
        "class BatchGenerator:\n",
        "\n",
        "\n",
        "    def __init__(self, batch_size: int = 10) -> None:\n",
        "        self.batch_size = batch_size\n",
        "\n",
        "    # Makes chunks out of an input DataFrame\n",
        "    def to_batches(self, df: pd.DataFrame) -> Iterator[pd.DataFrame]:\n",
        "        splits = self.splits_num(df.shape[0])\n",
        "        if splits <= 1:\n",
        "            yield df\n",
        "        else:\n",
        "            for chunk in np.array_split(df, splits):\n",
        "                yield chunk\n",
        "\n",
        "    # Determines how many chunks DataFrame contains\n",
        "    def splits_num(self, elements: int) -> int:\n",
        "        return round(elements / self.batch_size)\n",
        "\n",
        "    __call__ = to_batches\n",
        "\n",
        "df_batcher = BatchGenerator(300)"
      ],
      "metadata": {
        "id": "dyiLFzPmuSh5"
      },
      "execution_count": 27,
      "outputs": []
    },
    {
      "cell_type": "code",
      "source": [
        "print(type(article_df['title_vector'][0]))\n",
        "print(type(article_df['content_vector'][0]))\n"
      ],
      "metadata": {
        "colab": {
          "base_uri": "https://localhost:8080/"
        },
        "id": "W8sR7NLb4lCc",
        "outputId": "9f19bf63-ce7e-4f1a-9cfb-acf84c15a0cf"
      },
      "execution_count": 54,
      "outputs": [
        {
          "output_type": "stream",
          "name": "stdout",
          "text": [
            "<class 'list'>\n",
            "<class 'list'>\n"
          ]
        }
      ]
    },
    {
      "cell_type": "code",
      "source": [
        "article_df['title'][0]"
      ],
      "metadata": {
        "colab": {
          "base_uri": "https://localhost:8080/",
          "height": 36
        },
        "id": "YEqxKpdX_2MX",
        "outputId": "9f31cf37-aaaa-441f-8c6f-a3744e226baa"
      },
      "execution_count": 84,
      "outputs": [
        {
          "output_type": "execute_result",
          "data": {
            "text/plain": [
              "'April'"
            ],
            "application/vnd.google.colaboratory.intrinsic+json": {
              "type": "string"
            }
          },
          "metadata": {},
          "execution_count": 84
        }
      ]
    },
    {
      "cell_type": "code",
      "source": [
        "\n",
        "'''\n",
        "import os\n",
        "import pinecone\n",
        "from pinecone import Pinecone, ServerlessSpec\n",
        "import ast\n",
        "\n",
        "pinecone_client = Pinecone(api_key=userdata.get('YOUR_API_KEY'))\n",
        "# Initialize Pinecone\n",
        "#pinecone_client = pinecone.Client(api_key=os.environ.get(\"YOUR_API_KEY\"))\n",
        "\n",
        "# Define index name\n",
        "index_name = \"wiki3\"\n",
        "\n",
        "\n",
        "# Connect to the index\n",
        "index = pinecone_client.Index(index_name)\n",
        "\n",
        "\n",
        "# Define df_batcher function\n",
        "def df_batcher(df, batch_size=100):\n",
        "    for i in range(0, len(df), batch_size):\n",
        "        yield df.iloc[i:i + batch_size]\n",
        "\n",
        "# Upsert title vectors in title namespace\n",
        "print(\"Uploading vectors to title namespace..\")\n",
        "for batch_df in df_batcher(article_df):\n",
        "    #vectors = [(str(id_), vector) for id_, vector in zip(batch_df['vector_id'], batch_df['title_vector'])]\n",
        "    #index.upsert(vectors=vectors, namespace='title')\n",
        "    index.upsert(vectors=zip(batch_df.vector_id, batch_df.content_vector), namespace='content')\n",
        "    index.upsert(vectors=zip(batch_df.vector_id, batch_df.title_vector), namespace='title')\n",
        "\n",
        "print(\"Data upserted successfully.\")\n",
        "\n",
        "\n",
        "'''"
      ],
      "metadata": {
        "colab": {
          "base_uri": "https://localhost:8080/"
        },
        "id": "KAV4vPMg3sdu",
        "outputId": "b8e82922-c9bf-40cd-e5cf-872dca8f43af"
      },
      "execution_count": 68,
      "outputs": [
        {
          "output_type": "stream",
          "name": "stdout",
          "text": [
            "Uploading vectors to title namespace..\n",
            "Data upserted successfully.\n"
          ]
        }
      ]
    },
    {
      "cell_type": "code",
      "source": [
        "import os\n",
        "import pinecone\n",
        "from pinecone import Pinecone, ServerlessSpec\n",
        "import ast\n",
        "\n",
        "pinecone_client = Pinecone(api_key=userdata.get('YOUR_API_KEY'))\n",
        "# Initialize Pinecone\n",
        "#pinecone_client = pinecone.Client(api_key=os.environ.get(\"YOUR_API_KEY\"))\n",
        "\n",
        "# Define index name\n",
        "index_name = \"wiki4\"\n",
        "\n",
        "\n",
        "# Connect to the index\n",
        "index = pinecone_client.Index(index_name)\n"
      ],
      "metadata": {
        "id": "MDADQOoa-llE"
      },
      "execution_count": 77,
      "outputs": []
    },
    {
      "cell_type": "code",
      "source": [
        "for batch_df in df_batcher(article_df):\n",
        "    vectors_with_metadata = [\n",
        "        {\n",
        "            \"id\": str(id_),\n",
        "            \"values\": vector,\n",
        "            \"metadata\": {\"title\": title, \"text\": text}\n",
        "        }\n",
        "        for id_, vector, title, text in zip(batch_df['vector_id'], batch_df['title_vector'], batch_df['title'], batch_df['text'])\n",
        "    ]\n",
        "    index.upsert(vectors=vectors_with_metadata, namespace='title')\n",
        "\n",
        "print(\"Data upserted successfully.\")"
      ],
      "metadata": {
        "colab": {
          "base_uri": "https://localhost:8080/"
        },
        "id": "4uH5oMvDA_q0",
        "outputId": "eb502448-57dd-4e3a-c7a6-1192311b2eaf"
      },
      "execution_count": 92,
      "outputs": [
        {
          "output_type": "stream",
          "name": "stdout",
          "text": [
            "Data upserted successfully.\n"
          ]
        }
      ]
    },
    {
      "cell_type": "code",
      "source": [
        "# Upsert content vectors in content namespace - this can take a few minutes\n",
        "#print(\"Uploading vectors to content namespace..\")\n",
        "#for batch_df in df_batcher(article_df):\n",
        " #   index.upsert(vectors=zip(batch_df.vector_id, batch_df.content_vector), namespace='content')"
      ],
      "metadata": {
        "colab": {
          "base_uri": "https://localhost:8080/"
        },
        "id": "MCTncvsiuZco",
        "outputId": "1a65d1e4-8346-4ae5-84c5-26205361904c"
      },
      "execution_count": 89,
      "outputs": [
        {
          "output_type": "stream",
          "name": "stdout",
          "text": [
            "Uploading vectors to content namespace..\n"
          ]
        }
      ]
    },
    {
      "cell_type": "code",
      "source": [
        "# Upsert title vectors in title namespace - this can also take a few minutes\n",
        "#print(\"Uploading vectors to title namespace..\")\n",
        "#for batch_df in df_batcher(article_df):\n",
        " #   index.upsert(vectors=zip(batch_df.vector_id, batch_df.title_vector), namespace='title')"
      ],
      "metadata": {
        "colab": {
          "base_uri": "https://localhost:8080/"
        },
        "id": "GpED4x0g642g",
        "outputId": "2ede8f41-4fc8-4d41-e6c9-1c66fe2e2d29"
      },
      "execution_count": 88,
      "outputs": [
        {
          "output_type": "stream",
          "name": "stdout",
          "text": [
            "Uploading vectors to title namespace..\n"
          ]
        }
      ]
    },
    {
      "cell_type": "code",
      "source": [
        "# Check index size for each namespace to confirm all of our docs have loaded\n",
        "index.describe_index_stats()"
      ],
      "metadata": {
        "colab": {
          "base_uri": "https://localhost:8080/"
        },
        "id": "5t6eXJevuZgK",
        "outputId": "8512dd0b-651a-4478-8185-74cafb0f38f3"
      },
      "execution_count": 80,
      "outputs": [
        {
          "output_type": "execute_result",
          "data": {
            "text/plain": [
              "{'dimension': 1536,\n",
              " 'index_fullness': 0.0,\n",
              " 'namespaces': {'content': {'vector_count': 200},\n",
              "                'title': {'vector_count': 200}},\n",
              " 'total_vector_count': 400}"
            ]
          },
          "metadata": {},
          "execution_count": 80
        }
      ]
    },
    {
      "cell_type": "code",
      "source": [
        "# First we'll create dictionaries mapping vector IDs to their outputs so we can retrieve the text for our search results\n",
        "titles_mapped = dict(zip(article_df.vector_id,article_df.title))\n",
        "content_mapped = dict(zip(article_df.vector_id,article_df.text))"
      ],
      "metadata": {
        "id": "SOw8kcLzumD_"
      },
      "execution_count": 71,
      "outputs": []
    },
    {
      "cell_type": "code",
      "source": [
        "\n",
        "# Perform the query\n",
        "response = index.query(\n",
        "    vector=query_vector,\n",
        "    top_k=3,  # Number of top results to return\n",
        "    namespace='title',  # Specify the namespace\n",
        "    include_metadata=True  # Ensure metadata is included in the response\n",
        ")\n",
        "\n",
        "# Print the response metadata\n",
        "print(\"Query Results:\")\n",
        "for match in response['matches']:\n",
        "    print(f\"ID: {match['id']}\")\n",
        "    print(f\"Score: {match['score']}\")\n",
        "    if 'metadata' in match:\n",
        "        print(\"Metadata:\")\n",
        "        for key, value in match['metadata'].items():\n",
        "            print(f\"  {key}: {value}\")\n",
        "    print(\"\\n\")"
      ],
      "metadata": {
        "colab": {
          "base_uri": "https://localhost:8080/"
        },
        "id": "kvyFovzcutWO",
        "outputId": "27f93661-b15f-4b5d-d866-40d6ef1474d9"
      },
      "execution_count": 100,
      "outputs": [
        {
          "output_type": "stream",
          "name": "stdout",
          "text": [
            "Query Results:\n",
            "ID: 133\n",
            "Score: 515.064392\n",
            "Metadata:\n",
            "  text: Everything2 or E2 is a website.  It lets people make pages about many different things, and some people use it as a diary.\n",
            "\n",
            "E2 users create pages called nodes and add stuff in writeups.  Only logged-in users can create writeups.  Only the person who created the writeup or someone who the website owners (called \"gods\") choose can edit the writeup.  On the other hand, on Wikipedia, anyone can edit pages, but on Everything2 only those who can edit the writeup can edit pages.\n",
            "\n",
            "Everything2 does not require a neutral point of view like Wikipedia does. So, it is possible to have more than one article (writeups) under the same title (node), each by different authors, and presenting different points of view.\n",
            "\n",
            "Other websites \n",
            " Everything2 website\n",
            " Everything2.com article about Wikipedia\n",
            "\n",
            "Websites\n",
            "  title: Everything2\n",
            "\n",
            "\n",
            "ID: 52\n",
            "Score: 515.097351\n",
            "Metadata:\n",
            "  text: Bubonic plague is the best-known form of the disease plague, which is caused by the bacterium Yersinia pestis. The name bubonic plague is specific for this form of the disease, which enters through the skin, and travels through the lymphatic system.\n",
            "\n",
            "The plague was spread by fleas on rats. This method of spreading disease is a zoonosis.\n",
            "\n",
            "If the disease is left untreated, it kills about half its victims in three to seven days. The bubonic plague was the disease that caused the Black Death, which killed tens of millions of people in Europe, in the Middle Ages.\n",
            "\n",
            "Symptoms of this disease include coughing, fever, and black spots on the skin.\n",
            "\n",
            "Different kinds of the same disease \n",
            "There are different kinds of Bubonic plague. The most common form of the disease is spread by a certain kind of flea, that lives on rats. Then there is an incubation period which can last from a few hours to about seven days.\n",
            "\n",
            "Septicemic plague \n",
            "Sepsis happens when the bacterium enters the blood and makes it form tiny clots.\n",
            "\n",
            "Pneumonic plague \n",
            "This happens when the bacterium can enter the lungs. About 95% of all people with this form will die. Incubation period is only one to two days.\n",
            "\n",
            "The abortive form \n",
            "This is the most harmless form. It will result in a small fever. After that, the victim's body produces antibodies that protect against all forms of the disease for a long time.\n",
            "\n",
            "History \n",
            "The first recorded epidemic was in the Eastern Roman Empire (Byzantine Empire), It was called the Plague of Justinian after emperor Justinian I, who was infected but survived through extensive treatment. The pandemic resulted in the deaths of an estimated 25 million (6th century outbreak) to 50 million people (two centuries of recurrence).\n",
            "\n",
            "During the 1300s, this epidemic struck parts of Asia, North Africa, and Europe. Almost a third of the people in Europe died of it. Unlike catastrophes that pull communities together, this epidemic was so terrifying that it broke people's trust in one another. Giovanni Boccaccio, an Italian writer of the time, described it: \"This scourge had implanted so great a terror in the hearts of men and women that brothers abandoned brothers, uncles their nephews, sisters their brothers, and in many cases wives deserted their husbands. But even worse,... fathers and mothers refused to nurse and assist their own children\".\n",
            "\n",
            "Local outbreaks of the plague are grouped into three plague pandemics, whereby the respective start and end dates and the assignment of some outbreaks to either pandemic are still subject to discussion. The pandemics were:\n",
            " the first plague pandemic from 541 to ~750, spreading from Egypt to the Mediterranean (starting with the Plague of Justinian) and northwestern Europe\n",
            " the second plague pandemic from ~1331 to ~1855, spreading from Central Asia to the Mediterranean and Europe (starting with the Black Death), and probably also to China\n",
            " the third plague pandemic from 1855 to 1960, spreading from China to various places around the world, notably India and the West Coast of the United States.\n",
            "\n",
            "Globally about 600 cases of plague are reported a year. In 2017 the countries with the most cases include the Democratic Republic of the Congo, Madagascar, and Peru.\n",
            "\n",
            "Vector \n",
            "The transmission of Y. pestis by fleas is well known. Fleas are the vector. The flea gets the bacteria as they feed on an infected animal, usually a rodent. Several proteins then work to keep the bacteria in the flea's digestive tract. This is important for the survival of Y. pestis in fleas.\n",
            "\n",
            "Modern history \n",
            "In the 20th century, some countries did research on the bacteria that causes bubonic plague, in order to use it for biological warfare.\n",
            "\n",
            "Samples of this bacteria are carefully controlled. There is much paranoia (fear) about it. Dr. Thomas C. Butler, a US expert in this organism was charged in October 2003 by the FBI with various crimes. This happened after he said he lost samples of Yersinia pestis. This is the bacteria that causes bubonic plague. The FBI did not find the samples. They do not know what happened to them.\n",
            "\n",
            "References \n",
            "\n",
            "Plague\n",
            "Pulmonology\n",
            "Zoonoses\n",
            "  title: Bubonic plague\n",
            "\n",
            "\n",
            "ID: 54\n",
            "Score: 515.131104\n",
            "Metadata:\n",
            "  text: Botany is the study of plants. It is a science. It is a branch of biology, and is also called plant biology. It is sometimes called phytology. Scientists who study botany are called botanists. They study how plants work.\n",
            "\n",
            "Branches of botany \n",
            "Agronomy—Application of plant science to crop production\n",
            "Bryology—Mosses, liverworts, and hornworts\n",
            "Forestry—Forest management and related studies\n",
            "Horticulture—Cultivated plants\n",
            "Micropaleontology—Pollen and spores\n",
            "Mycology—Fungi\n",
            "Paleobotany—Fossil plants\n",
            "Phycology—Algae\n",
            "Phytochemistry—Plant secondary chemistry and chemical processes\n",
            "Phytopathology—Plant diseases\n",
            "Plant anatomy—Cell and tissue structure\n",
            "Plant ecology—Role of plants in the environment\n",
            "Plant genetics—Genetic inheritance in plants\n",
            "Plant morphology—Structure and life cycles\n",
            "Plant physiology—Life functions of plants\n",
            "Plant systematics—Classification and naming of plants\n",
            "\n",
            "Recent trends \n",
            "University departments of botany are often now merged into a wider group of specialities, including cell biology, genetics, ecology, cytology, palaeontology and other topics. This gives students and research workers access to a wider education and a wider range of research techniques.\n",
            "\n",
            "Notable botanists \n",
            " Theophrastus, Hellenistic philosopher, wrote books, systematized botanical descriptions.\n",
            " Ibn al-Baitar (d. 1248), Andalusian-Arab scientist, author of one of the largest botanical encyclopedias.\n",
            " Georges-Louis Leclerc, Comte de Buffon (1707–1788) was a French naturalist, Intendant of the Jardin du Roi ('King's Garden'). Buffon published thirty-five volumes of his Histoire naturelle during his lifetime, and nine more volumes were published after his death.\n",
            "Luther Burbank (1849–1926), American botanist, horticulturist, and a pioneer in agricultural science.\n",
            "Charles Darwin (1809–1882) wrote eight important books on botany after he published the Origin of Species.\n",
            "Al-Dinawari (828–896), Kurdish botanist, historian, geographer, astronomer, mathematician, and founder of Arabic botany.\n",
            "Conrad Gessner (1516–1565) was a Swiss naturalist and bibliographer. \n",
            "Joseph Dalton Hooker (1817–1911), English botanist and explorer. Second winner of Darwin Medal.\n",
            "Carl Linnaeus (1707–1778), Swedish botanist, physician and zoologist who laid the foundations for the modern scheme of Binomial nomenclature. He is known as the father of modern taxonomy, and is also considered one of the fathers of modern ecology.\n",
            "Gregor Mendel (1822–1884), Augustinian priest and scientist, and is often called the father of genetics for his study of the inheritance of traits in pea plants.\n",
            "John Ray (1627–1705) was an English naturalist, the father of English natural history.\n",
            "G. Ledyard Stebbins (1906–2000) was an American botanist and geneticist. He was one of the leading evolutionary biologists of the 20th century.\n",
            "Eduard Strasburger (1844–1912) was a Polish-German professor who was one of the most famous botanists of the 19th century.\n",
            "Nikolai Vavilov (1887–1943) was a Russian botanist and geneticist. He  showed how and where crop plants evolved. He studied and improved wheat, corn, and other cereal crops.\n",
            "\n",
            "Related pages \n",
            "Botanical garden\n",
            "\n",
            " \n",
            "Agriculture\n",
            "  title: Botany\n",
            "\n",
            "\n"
          ]
        }
      ]
    },
    {
      "cell_type": "code",
      "source": [],
      "metadata": {
        "id": "TNhDHEcLCzP5"
      },
      "execution_count": null,
      "outputs": []
    }
  ]
}