{
 "cells": [
  {
   "cell_type": "code",
   "execution_count": 5,
   "id": "c3175665-b985-4695-b6e5-9c3c02f1af25",
   "metadata": {},
   "outputs": [
    {
     "name": "stdout",
     "output_type": "stream",
     "text": [
      "Result: 5.0\n",
      "Execution completed.\n",
      "Error: Cannot divide by zero. Details: division by zero\n",
      "Execution completed.\n",
      "Error: Invalid input type. Details: unsupported operand type(s) for /: 'int' and 'str'\n",
      "Execution completed.\n"
     ]
    }
   ],
   "source": [
    "def divide_numbers(num1, num2):\n",
    "    try:\n",
    "        result = num1 / num2\n",
    "    except ZeroDivisionError as e:\n",
    "        print(f\"Error: Cannot divide by zero. Details: {e}\")\n",
    "    except TypeError as e:\n",
    "        print(f\"Error: Invalid input type. Details: {e}\")\n",
    "    else:\n",
    "        print(f\"Result: {result}\")\n",
    "    finally:\n",
    "        print(\"Execution completed.\")\n",
    "\n",
    "# Test cases\n",
    "divide_numbers(10, 2)  # Should print the result\n",
    "divide_numbers(10, 0)  # Should handle ZeroDivisionError\n",
    "divide_numbers(10, 'a')  # Should handle TypeError\n"
   ]
  },
  {
   "cell_type": "code",
   "execution_count": null,
   "id": "5c62e71f-4eaf-44bb-8a64-db5c2b6b7599",
   "metadata": {},
   "outputs": [],
   "source": []
  }
 ],
 "metadata": {
  "kernelspec": {
   "display_name": "Python 3 (ipykernel)",
   "language": "python",
   "name": "python3"
  },
  "language_info": {
   "codemirror_mode": {
    "name": "ipython",
    "version": 3
   },
   "file_extension": ".py",
   "mimetype": "text/x-python",
   "name": "python",
   "nbconvert_exporter": "python",
   "pygments_lexer": "ipython3",
   "version": "3.11.7"
  }
 },
 "nbformat": 4,
 "nbformat_minor": 5
}
