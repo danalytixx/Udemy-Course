{
 "cells": [
  {
   "cell_type": "code",
   "execution_count": 12,
   "id": "05ebfe61-a061-4c96-8939-cf5b6bb7b800",
   "metadata": {},
   "outputs": [
    {
     "name": "stdout",
     "output_type": "stream",
     "text": [
      "Integer: 42, Type: <class 'int'>\n",
      "Float: 3.14159, Type: <class 'float'>\n",
      "Complex: (2+3j), Type: <class 'complex'>\n",
      "String: Hello, World!, Type: <class 'str'>\n",
      "List: [1, 2, 3, 'four', 5.0], Type: <class 'list'>\n",
      "Tuple: (1, 2, 3, 'four', 5.0), Type: <class 'tuple'>\n",
      "Set: {1, 2, 3, 5, 'test'}, Type: <class 'set'>\n",
      "Frozenset: frozenset({1, 2, 3, 4, 'test'}), Type: <class 'frozenset'>\n",
      "Dictionary: {'one': 1, 'two': 2, 'three': 3}, Type: <class 'dict'>\n",
      "Boolean: True, Type: <class 'bool'>\n",
      "Bytes: b'Hello123', Type: <class 'bytes'>\n",
      "Bytearray: bytearray(b'Hello1234'), Type: <class 'bytearray'>\n",
      "Memoryview: <memory at 0x00000253CD83E200>, Type: <class 'memoryview'>\n",
      "None: None, Type: <class 'NoneType'>\n"
     ]
    }
   ],
   "source": [
    "# Numeric Types\n",
    "integer_example = 42\n",
    "print(f\"Integer: {integer_example}, Type: {type(integer_example)}\")\n",
    "\n",
    "float_example = 3.14159\n",
    "print(f\"Float: {float_example}, Type: {type(float_example)}\")\n",
    "\n",
    "complex_example = 2 + 3j\n",
    "print(f\"Complex: {complex_example}, Type: {type(complex_example)}\")\n",
    "\n",
    "# Sequence Types\n",
    "string_example = \"Hello, World!\"\n",
    "print(f\"String: {string_example}, Type: {type(string_example)}\")\n",
    "\n",
    "list_example = [1, 2, 3, \"four\", 5.0]\n",
    "print(f\"List: {list_example}, Type: {type(list_example)}\")\n",
    "\n",
    "tuple_example = (1, 2, 3, \"four\", 5.0)\n",
    "print(f\"Tuple: {tuple_example}, Type: {type(tuple_example)}\")\n",
    "\n",
    "# Set Types\n",
    "set_example = {1, 2, 3, \"test\", 5}\n",
    "print(f\"Set: {set_example}, Type: {type(set_example)}\")\n",
    "\n",
    "frozenset_example = frozenset([1, 2, 3, 4, \"test\"])\n",
    "print(f\"Frozenset: {frozenset_example}, Type: {type(frozenset_example)}\")\n",
    "\n",
    "# Mapping Types\n",
    "dict_example = {\"one\": 1, \"two\": 2, \"three\": 3}\n",
    "print(f\"Dictionary: {dict_example}, Type: {type(dict_example)}\")\n",
    "\n",
    "# Boolean Type\n",
    "boolean_example = True\n",
    "print(f\"Boolean: {boolean_example}, Type: {type(boolean_example)}\")\n",
    "\n",
    "# Binary Types\n",
    "bytes_example = b\"Hello123\"\n",
    "print(f\"Bytes: {bytes_example}, Type: {type(bytes_example)}\")\n",
    "\n",
    "bytearray_example = bytearray(b\"Hello1234\")\n",
    "print(f\"Bytearray: {bytearray_example}, Type: {type(bytearray_example)}\")\n",
    "\n",
    "memoryview_example = memoryview(b\"Hello355\")\n",
    "print(f\"Memoryview: {memoryview_example}, Type: {type(memoryview_example)}\")\n",
    "\n",
    "# None Type\n",
    "none_example = None\n",
    "print(f\"None: {none_example}, Type: {type(none_example)}\")\n"
   ]
  },
  {
   "cell_type": "code",
   "execution_count": null,
   "id": "04f7d371-494d-41d8-ac2c-5ea52698cbed",
   "metadata": {},
   "outputs": [],
   "source": []
  }
 ],
 "metadata": {
  "kernelspec": {
   "display_name": "Python 3 (ipykernel)",
   "language": "python",
   "name": "python3"
  },
  "language_info": {
   "codemirror_mode": {
    "name": "ipython",
    "version": 3
   },
   "file_extension": ".py",
   "mimetype": "text/x-python",
   "name": "python",
   "nbconvert_exporter": "python",
   "pygments_lexer": "ipython3",
   "version": "3.11.7"
  }
 },
 "nbformat": 4,
 "nbformat_minor": 5
}
